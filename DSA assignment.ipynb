{
 "cells": [
  {
   "cell_type": "code",
   "execution_count": 1,
   "id": "7c94d145-0af0-426a-ac19-0f876e9bd300",
   "metadata": {},
   "outputs": [
    {
     "name": "stdin",
     "output_type": "stream",
     "text": [
      "Enter any string:  Hello World!\n"
     ]
    },
    {
     "name": "stdout",
     "output_type": "stream",
     "text": [
      "Reverse of our string Hello World! is  !dlroW olleH\n"
     ]
    }
   ],
   "source": [
    "#Reverse a given string\n",
    "#initialisng string\n",
    "string = input(\"Enter any string: \")\n",
    "#taking new string as empty to place reversed string\n",
    "newstring = \" \"\n",
    "#iterating our loop in reverse order in -1 steps\n",
    "for i in range(len(string)-1,-1,-1):\n",
    "    #condition to reverse a string\n",
    "    newstring += string[i]\n",
    "print(f\"Reverse of our string {string} is {newstring}\")"
   ]
  },
  {
   "cell_type": "code",
   "execution_count": 2,
   "id": "6042990d-ceb3-486a-8f9d-7e95ea990034",
   "metadata": {},
   "outputs": [
    {
     "name": "stdout",
     "output_type": "stream",
     "text": [
      "power of given number is:  32768\n"
     ]
    }
   ],
   "source": [
    "#calculate the power of a number using recursion\n",
    "#function def to find power using base and exponent\n",
    "def power(base,exponent):\n",
    "    #base condition\n",
    "    #if power is 0 return 1\n",
    "    #because anthing power 0 is 1\n",
    "    #if below condition not true go to else part\n",
    "    if exponent == 0:\n",
    "        return 1\n",
    "    else:\n",
    "        #recurrance relation to find the power\n",
    "        return base*power(base,exponent-1)\n",
    "#driver code\n",
    "result = power(8,5)\n",
    "print(\"power of given number is: \",result)"
   ]
  },
  {
   "cell_type": "code",
   "execution_count": 3,
   "id": "8f76c46c-18f7-4af2-ab4b-93657b78eda9",
   "metadata": {},
   "outputs": [
    {
     "name": "stdout",
     "output_type": "stream",
     "text": [
      "fibanocci series is 34\n"
     ]
    }
   ],
   "source": [
    "#generate fibanocci seriese sum\n",
    "def fibanocci(n):\n",
    "    if n<0:\n",
    "        print(\"Given input is invalid\")\n",
    "    elif n==0:\n",
    "        return 0\n",
    "    elif n==1 or n==2:\n",
    "        return 1\n",
    "    else:\n",
    "        return fibanocci(n-1)+fibanocci(n-2)\n",
    "\n",
    "result = fibanocci(9)\n",
    "print(f\"fibanocci series is {result}\")"
   ]
  },
  {
   "cell_type": "code",
   "execution_count": 4,
   "id": "860609c8-f343-4423-98f8-9249cc1815de",
   "metadata": {},
   "outputs": [
    {
     "name": "stdin",
     "output_type": "stream",
     "text": [
      "Enter the range of fibanocciseries:  9\n"
     ]
    },
    {
     "name": "stdout",
     "output_type": "stream",
     "text": [
      "1 2 3 5 8 13 21 34 55 "
     ]
    }
   ],
   "source": [
    "#generate fibanocci series upto a given number\n",
    "x = int(input(\"Enter the range of fibanocciseries: \"))\n",
    "#fibanocci series is the sum of preceeding numbers\n",
    "#so first we initialise 0 and 1 to start adding of preceedings\n",
    "x1 = 0\n",
    "x2 = 1\n",
    "next_num = x2\n",
    "#initialisng count variable as 1\n",
    "count = 1\n",
    "#iterating loop using while untill the below condition is true\n",
    "while count<=x:\n",
    "    #if above condition is true print the number that we decide\n",
    "    #raise our count to 1 to go to next number\n",
    "    #after we use swapping condition because of getting new preceedings\n",
    "    #and then add to get our result\n",
    "    print(next_num,end=\" \")\n",
    "    count+=1\n",
    "    x1,x2 = x2,next_num\n",
    "    next_num = x1+x2"
   ]
  },
  {
   "cell_type": "code",
   "execution_count": 5,
   "id": "7854e366-8c08-4b25-ad92-6f87ea1e6600",
   "metadata": {},
   "outputs": [
    {
     "name": "stdin",
     "output_type": "stream",
     "text": [
      "Enter any number to check prime or not:  9\n"
     ]
    },
    {
     "name": "stdout",
     "output_type": "stream",
     "text": [
      "9 is a prime number\n"
     ]
    }
   ],
   "source": [
    "#check prime number or not\n",
    "#taking input from the user\n",
    "x = int(input(\"Enter any number to check prime or not: \"))\n",
    "#initialsing a variable as flag to false\n",
    "flag = False\n",
    "#false conditon for prime number\n",
    "if x==1:\n",
    "    print(x,\"is not a prime number\")\n",
    "else:\n",
    "    #iterating loop from 2 to given number\n",
    "    for i in range(2,x):\n",
    "        #finding factors\n",
    "        #if factors found flag set to true\n",
    "        #after break the loop\n",
    "        if x%i == 0:\n",
    "            flag = True\n",
    "        break\n",
    "#if flag is true printing as not prime\n",
    "#otherwise print as prime number\n",
    "if flag:\n",
    "    print(x,\"is not a prime number\")\n",
    "else:\n",
    "    print(x,\"is a prime number\")"
   ]
  },
  {
   "cell_type": "code",
   "execution_count": 6,
   "id": "188a09d1-8e59-40e6-aea1-c896c3ecd6aa",
   "metadata": {},
   "outputs": [
    {
     "name": "stdout",
     "output_type": "stream",
     "text": [
      "factorial of a given number is:  120\n"
     ]
    }
   ],
   "source": [
    "#factorial of a number\n",
    "#function definition to find factorial of number\n",
    "def factorial(number):\n",
    "    #checking conditions in diff situations\n",
    "    if number < 1:\n",
    "        print(\"Invalid Input\")\n",
    "    #if  num is 0 then we are taking result as 1\n",
    "    #because 0 factorial valueis 1\n",
    "    elif number == 0:\n",
    "        return 1\n",
    "    else:\n",
    "        #anothercondition for num>1 using while loop\n",
    "        #for that initialisng fact variable to 1\n",
    "        fact = 1\n",
    "        while number>1:\n",
    "            #condition for factorail to multiply with next numbers\n",
    "            #after that decrement to 1\n",
    "            fact *= number\n",
    "            number -= 1\n",
    "        return fact\n",
    "\n",
    "print(\"factorial of a given number is: \",factorial(5))"
   ]
  },
  {
   "cell_type": "code",
   "execution_count": 7,
   "id": "c6bc77aa-be6e-4e6a-9030-f7058f030af5",
   "metadata": {},
   "outputs": [
    {
     "name": "stdout",
     "output_type": "stream",
     "text": [
      "6\n"
     ]
    }
   ],
   "source": [
    "#implement linear search to find the index of a target element\n",
    "#function definition to find a number using linear search\n",
    "def linearSearch(arr,num):\n",
    "    #loop of arr upto num\n",
    "    for i in range(len(arr)):\n",
    "        #condition to check number in an array\n",
    "        if arr[i] == num:\n",
    "            return i\n",
    "print(linearSearch([1,2,5,6,7,3,9,0,4],9))"
   ]
  },
  {
   "cell_type": "code",
   "execution_count": 8,
   "id": "c046ae61-8739-449e-a769-ef0f9f62d84d",
   "metadata": {},
   "outputs": [
    {
     "name": "stdout",
     "output_type": "stream",
     "text": [
      "MaximumElement in given array is:  5\n"
     ]
    }
   ],
   "source": [
    "#find the maximum element in an array\n",
    "#function definition to find the maximum element in an array\n",
    "def MaximumElement(arr):\n",
    "    #iterating loop through array\n",
    "    for i in range(len(arr)):\n",
    "        #initialising a variable maximum as 0\n",
    "        #after that comapre this marimum element with entire elements in array\n",
    "        #to find maximum\n",
    "        #atter that return our result\n",
    "        Maximum = 0\n",
    "        if arr[i] > Maximum:\n",
    "            Maximum = arr[i]\n",
    "    return Maximum\n",
    "\n",
    "print(\"MaximumElement in given array is: \",MaximumElement([1,2,3,4,5]))"
   ]
  },
  {
   "cell_type": "code",
   "execution_count": 9,
   "id": "039ec74d-a850-45f4-82d3-13079b31962d",
   "metadata": {},
   "outputs": [
    {
     "name": "stdout",
     "output_type": "stream",
     "text": [
      "Sum of elements in an array is:  15\n"
     ]
    }
   ],
   "source": [
    "#given array of integers to find sum of its elements\n",
    "#function definition to find sum\n",
    "def SumOf(arr):\n",
    "    #initialising sum variable to 0\n",
    "    sum = 0\n",
    "    #iterating loop through entire array\n",
    "    for i in range(len(arr)):\n",
    "        #condition for adding numbers using variable sum\n",
    "        #after that return our result i.e., sum\n",
    "        sum += arr[i]\n",
    "    return sum\n",
    "print(\"Sum of elements in an array is: \",SumOf([1,2,3,4,5]))"
   ]
  },
  {
   "cell_type": "code",
   "execution_count": 10,
   "id": "def796bf-5c03-407f-867c-da6b9b14a5b1",
   "metadata": {},
   "outputs": [
    {
     "name": "stdout",
     "output_type": "stream",
     "text": [
      "[0, 0, 0, 1, 1, 1, 2, 2, 2]\n"
     ]
    }
   ],
   "source": [
    "#method definition to sort 0,1,2\n",
    "def sort(arr):\n",
    "    #taking 3 pointers i , j and k\n",
    "    i = 0\n",
    "    j = len(arr)-1\n",
    "    k = 0\n",
    "    #conditions for arranging 0,1,2\n",
    "    #if conditions true by using swaping we are sorting\n",
    "    #based on conditiond we use increment or decrement coditions\n",
    "    while k<=j:\n",
    "        if arr[k] == 0:\n",
    "            arr[i],arr[k] = arr[k],arr[i]\n",
    "            i+=1\n",
    "            k+=1\n",
    "        elif arr[k]==1:\n",
    "            k+=1\n",
    "        else:\n",
    "            arr[k],arr[j] = arr[j],arr[k]\n",
    "            j-=1\n",
    "    return arr\n",
    "print(sort([0,1,2,1,2,0,1,0,2]))"
   ]
  },
  {
   "cell_type": "code",
   "execution_count": 11,
   "id": "11cd6a38-4c1e-4dff-bd65-a1419b6a09bf",
   "metadata": {},
   "outputs": [
    {
     "name": "stdout",
     "output_type": "stream",
     "text": [
      "Smallest Letter Greater than Target is:  c\n"
     ]
    }
   ],
   "source": [
    "#given sorted array of characters and a target letter find the smallest letter\n",
    "# in an array that is greater than target\n",
    "#method definition to find smallest\n",
    "def SmallestLetter(arr,target):\n",
    "    #tallest below variable to store the result\n",
    "    SmallestThanGreater = \" \"\n",
    "    #loop for each letter in arr\n",
    "    for letter in arr:\n",
    "        #condition to get smallest\n",
    "        #after the condition satisfies then break\n",
    "        if letter<target:\n",
    "            SmallestThanGreater = letter\n",
    "            break\n",
    "    return SmallestThanGreater\n",
    "\n",
    "print(\"Smallest Letter Greater than Target is: \",SmallestLetter(['c','f','j'],'d'))"
   ]
  },
  {
   "cell_type": "code",
   "execution_count": 12,
   "id": "29e737b7-2636-4943-a367-f205493e7674",
   "metadata": {},
   "outputs": [
    {
     "name": "stdout",
     "output_type": "stream",
     "text": [
      "[1, 2, 3]\n",
      "Median =  2.0\n"
     ]
    }
   ],
   "source": [
    "#find the median in two sorted arrays\n",
    "#median formula (n+1)/2 if odd ,[(n/2)+((n+2)/2)]/2 if even\n",
    "#function definition to find the median of array\n",
    "def Median(arr):\n",
    "    #for finding n value in formula\n",
    "    #taking n value ,which is len of arr\n",
    "    n = len(arr)\n",
    "    #checking condition for even\n",
    "    #if even print result\n",
    "    if n%2 == 0:\n",
    "        median = (n+1)/2\n",
    "        return median\n",
    "        #if n is odd\n",
    "        #printing result based on formula\n",
    "    else:\n",
    "        s1 = n/2\n",
    "        s2 = (n+2)/2\n",
    "        median = (s1+s2)/2\n",
    "        return median\n",
    "\n",
    "#initialisng different array to find median\n",
    "#so that taking array 3 by using sum of arr1 and arr2\n",
    "#and then taken sorted array of new array to print median\n",
    "arr1 = [1,3]\n",
    "arr2 = [2]\n",
    "arr3 = arr1+arr2\n",
    "arr3.sort()\n",
    "print(arr3)\n",
    "print(\"Median = \",Median(arr3))"
   ]
  },
  {
   "cell_type": "code",
   "execution_count": 13,
   "id": "18da656c-180c-4e41-9f95-052e4435e546",
   "metadata": {},
   "outputs": [
    {
     "name": "stdout",
     "output_type": "stream",
     "text": [
      "Element found at matrix of [0,1]\n",
      "Target value presented at place is:  1\n"
     ]
    }
   ],
   "source": [
    "#given 2d matrix in ascending order first integer in each is greater than the last integerof\n",
    "#previous row ,detremine if a target value is present in the matrix\n",
    "#function definition to find the target in matrix\n",
    "#n is the order of the matrix i.e., 4\n",
    "def Search(matrix,n,target):\n",
    "    if n==0:\n",
    "        return -1\n",
    "        #loop for rows and coloumns as i,j respectively\n",
    "    for i in range(n):\n",
    "        for j in range(n):\n",
    "            #condition for target to be found\n",
    "            if (matrix[i][j] == target):\n",
    "                print(f\"Element found at matrix of [{i},{j}]\")\n",
    "                return 1\n",
    "    print(\"Element not found \")\n",
    "    return 0\n",
    "matrix = [[1,3,5,7],[10,11,16,20],[23,30,34,60]]\n",
    "target = 3\n",
    "print(\"Target value presented at place is: \",Search(matrix,4,target))"
   ]
  },
  {
   "cell_type": "code",
   "execution_count": 14,
   "id": "d0fcf8be-6ada-4803-9117-96b272283612",
   "metadata": {},
   "outputs": [
    {
     "name": "stdout",
     "output_type": "stream",
     "text": [
      "4\n"
     ]
    }
   ],
   "source": [
    "#given m*n matrix in ascending order count the no.of negative numbers\n",
    "#function definition to find no.of negative numbers\n",
    "def CountNegative(matrix,m,n):\n",
    "    #initialising count variable to 0\n",
    "    count = 0\n",
    "    #iterating loop through i and j i.e., for rows and coloumns\n",
    "    for i in range(m):\n",
    "        for j in range(n):\n",
    "            #condition for negative number\n",
    "            #if condition true raise the count to 1\n",
    "            #else break\n",
    "            if (matrix[i][j]<0):\n",
    "                count+=1\n",
    "            else:\n",
    "                break\n",
    "    return count\n",
    "\n",
    "matrix = [[4,3,2,-1],[3,2,1,-1],[1,1,-1,-2],[-1,-1,-2,-3]]\n",
    "print(CountNegative(matrix,4,4))"
   ]
  },
  {
   "cell_type": "code",
   "execution_count": 15,
   "id": "9d867178-3383-4d52-8d14-009736b4a475",
   "metadata": {},
   "outputs": [
    {
     "name": "stdout",
     "output_type": "stream",
     "text": [
      "The PeakElement in given array is:  3\n"
     ]
    }
   ],
   "source": [
    "#find peak element in an array\n",
    "#peak element is greater than its neighbour\n",
    "#ex:[1,2,3,1], 3 is peak element\n",
    "#function definition to find the peak element with len 4\n",
    "def PeakElement(arr,n):\n",
    "    #if only one element present\n",
    "    if n==0:\n",
    "        return arr[0]\n",
    "    #checking for first and last\n",
    "    if arr[0] >= arr[1]:\n",
    "        return arr[0]\n",
    "    if arr[n-1]>=arr[n-2]:\n",
    "        return arr[n-1]\n",
    "    #iterating through entire arr\n",
    "    for i in range(1,n-1):\n",
    "        #condition for greater than its neighbours\n",
    "        if arr[i]>=arr[i-1] and arr[i]>=arr[i+1]:\n",
    "            return arr[i]\n",
    "    return 0\n",
    "print(\"The PeakElement in given array is: \",PeakElement([1,2,3,1],4)) "
   ]
  },
  {
   "cell_type": "code",
   "execution_count": 16,
   "id": "02090c6c-6764-4e86-9aaf-f1601e0aadb4",
   "metadata": {},
   "outputs": [
    {
     "name": "stdout",
     "output_type": "stream",
     "text": [
      "minimum element in rotated and sorted array is:  1\n"
     ]
    }
   ],
   "source": [
    " #find minimum in rotated and sorted array\n",
    "#function definition to find minimum element\n",
    "def FindMinimum(arr):\n",
    "    #initilising minimum element at o index of array\n",
    "    min_ele = arr[0]\n",
    "    #traversing through entire array\n",
    "    for i in range(len(arr)):\n",
    "        #condition for min element\n",
    "        if arr[i] < min_ele:\n",
    "            min_ele = arr[i]\n",
    "    return min_ele\n",
    "print(\"minimum element in rotated and sorted array is: \",FindMinimum([5,6,1,2,3,4]))"
   ]
  },
  {
   "cell_type": "code",
   "execution_count": 17,
   "id": "fc8bf74f-b67f-4f03-ad5d-f22fce64114b",
   "metadata": {},
   "outputs": [
    {
     "name": "stdout",
     "output_type": "stream",
     "text": [
      "Target element in rotated and sorted array is:  2\n"
     ]
    }
   ],
   "source": [
    "#find the targeted value in rotated and sorted array\n",
    "def FindTarget(arr):\n",
    "    #taking element\n",
    "    target = 1\n",
    "    #traversing through entire array\n",
    "    for i in range(len(arr)):\n",
    "        if arr[i] == target:\n",
    "            return i\n",
    "    return 0\n",
    "print(\"Target element in rotated and sorted array is: \",FindTarget([5,6,1,2,3,4]))"
   ]
  },
  {
   "cell_type": "code",
   "execution_count": 18,
   "id": "fded3ac9-2738-4ac0-ad9e-c2f390e7aaae",
   "metadata": {},
   "outputs": [],
   "source": [
    "#find the targeted value in rotated and sorted array\n",
    "#if not found wher it would place\n",
    "def FindTarget(arr):\n",
    "    #taking element\n",
    "    target = 7\n",
    "    #traversing through entire array\n",
    "    for i in range(len(arr)):\n",
    "        if arr[i] == target:\n",
    "            return i\n",
    "        elif target>=arr[i-1] and target<=arr[i+1]:\n",
    "            target.append(arr)\n",
    "            return arr\n",
    "    return 0\n",
    "    print(\"Target element in rotated and sorted array is: \",FindTarget([5,6,1,2,3,4]))"
   ]
  },
  {
   "cell_type": "code",
   "execution_count": null,
   "id": "f1060b6f-61f6-4e42-99ff-f48b4fd03028",
   "metadata": {},
   "outputs": [],
   "source": []
  }
 ],
 "metadata": {
  "kernelspec": {
   "display_name": "Python 3 (ipykernel)",
   "language": "python",
   "name": "python3"
  },
  "language_info": {
   "codemirror_mode": {
    "name": "ipython",
    "version": 3
   },
   "file_extension": ".py",
   "mimetype": "text/x-python",
   "name": "python",
   "nbconvert_exporter": "python",
   "pygments_lexer": "ipython3",
   "version": "3.10.8"
  }
 },
 "nbformat": 4,
 "nbformat_minor": 5
}
